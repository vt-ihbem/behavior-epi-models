{
 "cells": [
  {
   "cell_type": "code",
   "execution_count": null,
   "id": "numerous-sender",
   "metadata": {},
   "outputs": [],
   "source": [
    "using StructuralIdentifiability\n",
    "#SEIRSb model with initial condtions and gamma=1\n",
    "ode1=@ODEmodel(\n",
    "s'(t)=-beta/((1+a*f(t)))*(s(t)*i(t))+r(t)/TauR,\n",
    "e'(t)=beta/((1+a*f(t)))*(s(t)*i(t))-e(t)/TauE,\n",
    "i'(t)=e(t)/TauE-i(t)/TauI,\n",
    "r'(t)=i(t)/TauI-r(t)/TauR, \n",
    "f'(t)=(i(t)-f(t))/TauF,\n",
    "y(t)=i(t), \n",
    ")\n",
    "    \n",
    "println(assess_identifiability(ode1, known_ic = [s, e, i, r, f])) "
   ]
  },
  {
   "cell_type": "code",
   "execution_count": null,
   "id": "dress-lemon",
   "metadata": {},
   "outputs": [],
   "source": [
    "using StructuralIdentifiability\n",
    "#SEIRSb model with initial condtions and gamma=2\n",
    "ode2=@ODEmodel(\n",
    "s'(t)=-beta/((1+a*f(t))*(1+a*f(t)))*(s(t)*i(t))+r(t)/TauR,\n",
    "e'(t)=beta/((1+a*f(t))*(1+a*f(t)))*(s(t)*i(t))-e(t)/TauE,\n",
    "i'(t)=e(t)/TauE-i(t)/TauI,\n",
    "r'(t)=i(t)/TauI-r(t)/TauR, \n",
    "f'(t)=(i(t)-f(t))/TauF,\n",
    "y(t)=i(t), \n",
    ")\n",
    "    \n",
    "println(assess_identifiability(ode2, known_ic = [s, e, i, r, f])) "
   ]
  },
  {
   "cell_type": "code",
   "execution_count": null,
   "id": "permanent-award",
   "metadata": {},
   "outputs": [],
   "source": [
    "using StructuralIdentifiability\n",
    "#SEIRSb model with initial condtions and gamma=3\n",
    "ode3=@ODEmodel(\n",
    "s'(t)=-beta/((1+a*f(t))*(1+a*f(t))*(1+a*f(t)))*(s(t)*i(t))+r(t)/TauR,\n",
    "e'(t)=beta/((1+a*f(t))*(1+a*f(t))*(1+a*f(t)))*(s(t)*i(t))-e(t)/TauE,\n",
    "i'(t)=e(t)/TauE-i(t)/TauI,\n",
    "r'(t)=i(t)/TauI-r(t)/TauR, \n",
    "f'(t)=(i(t)-f(t))/TauF,\n",
    "y(t)=i(t), \n",
    ")\n",
    "    \n",
    "println(assess_identifiability(ode3, known_ic = [s, e, i, r, f])) "
   ]
  },
  {
   "cell_type": "code",
   "execution_count": null,
   "id": "proud-polls",
   "metadata": {},
   "outputs": [],
   "source": [
    "using StructuralIdentifiability\n",
    "#SEIRSb model without initial condtions and gamma=1\n",
    "ode4=@ODEmodel(\n",
    "s'(t)=-beta/((1+a*f(t)))*(s(t)*i(t))+r(t)/TauR,\n",
    "e'(t)=beta/((1+a*f(t)))*(s(t)*i(t))-e(t)/TauE,\n",
    "i'(t)=e(t)/TauE-i(t)/TauI,\n",
    "r'(t)=i(t)/TauI-r(t)/TauR, \n",
    "f'(t)=(i(t)-f(t))/TauF,\n",
    "y(t)=i(t), \n",
    ")\n",
    "    \n",
    "println(assess_identifiability(ode4))"
   ]
  },
  {
   "cell_type": "code",
   "execution_count": null,
   "id": "silver-update",
   "metadata": {},
   "outputs": [],
   "source": [
    "using StructuralIdentifiability\n",
    "#SEIRSb model without initial condtions and gamma=2\n",
    "ode5=@ODEmodel(\n",
    "s'(t)=-beta/((1+a*f(t))*(1+a*f(t)))*(s(t)*i(t))+r(t)/TauR,\n",
    "e'(t)=beta/((1+a*f(t))*(1+a*f(t)))*(s(t)*i(t))-e(t)/TauE,\n",
    "i'(t)=e(t)/TauE-i(t)/TauI,\n",
    "r'(t)=i(t)/TauI-r(t)/TauR, \n",
    "f'(t)=(i(t)-f(t))/TauF,\n",
    "y(t)=i(t), \n",
    ")\n",
    "    \n",
    "println(assess_identifiability(ode5))"
   ]
  }
 ],
 "metadata": {
  "kernelspec": {
   "display_name": "Julia 1.10.2",
   "language": "julia",
   "name": "julia-1.10"
  },
  "language_info": {
   "file_extension": ".jl",
   "mimetype": "application/julia",
   "name": "julia",
   "version": "1.10.2"
  }
 },
 "nbformat": 4,
 "nbformat_minor": 5
}
