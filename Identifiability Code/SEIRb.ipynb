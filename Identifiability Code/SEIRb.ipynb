{
 "cells": [
  {
   "cell_type": "code",
   "execution_count": null,
   "id": "improved-chamber",
   "metadata": {},
   "outputs": [],
   "source": [
    "using StructuralIdentifiability\n",
    "#SEIRb model with initial condtions and gamma=1\n",
    "ode1=@ODEmodel(\n",
    "s'(t)=-beta/((1+a*f(t)))*(s(t)*i(t)),\n",
    "e'(t)=beta/((1+a*f(t)))*(s(t)*i(t))-e(t)/TauE,\n",
    "i'(t)=e(t)/TauE-i(t)/TauI,\n",
    "r'(t)=i(t)/TauI, \n",
    "f'(t)=(i(t)-f(t))/TauF,\n",
    "y(t)=i(t), \n",
    ")\n",
    "    \n",
    "println(assess_identifiability(ode1, known_ic = [s, e, i, r, f])) "
   ]
  },
  {
   "cell_type": "code",
   "execution_count": null,
   "id": "intermediate-float",
   "metadata": {},
   "outputs": [],
   "source": [
    "using StructuralIdentifiability\n",
    "#SEIRb model with initial condtions and gamma=2\n",
    "ode2=@ODEmodel(\n",
    "s'(t)=-beta/((1+a*f(t))*(1+a*f(t)))*(s(t)*i(t)),\n",
    "e'(t)=beta/((1+a*f(t))*(1+a*f(t)))*(s(t)*i(t))-e(t)/TauE,\n",
    "i'(t)=e(t)/TauE-i(t)/TauI,\n",
    "r'(t)=i(t)/TauI, \n",
    "f'(t)=(i(t)-f(t))/TauF,\n",
    "y(t)=i(t), \n",
    ")\n",
    "    \n",
    "println(assess_identifiability(ode2, known_ic = [s, e, i, r, f])) "
   ]
  },
  {
   "cell_type": "code",
   "execution_count": null,
   "id": "manufactured-concept",
   "metadata": {},
   "outputs": [],
   "source": [
    "using StructuralIdentifiability\n",
    "#SEIRb model with initial condtions and gamma=3\n",
    "ode3=@ODEmodel(\n",
    "s'(t)=-beta/((1+a*f(t))*(1+a*f(t))*(1+a*f(t)))*(s(t)*i(t)),\n",
    "e'(t)=beta/((1+a*f(t))*(1+a*f(t))*(1+a*f(t)))*(s(t)*i(t))-e(t)/TauE,\n",
    "i'(t)=e(t)/TauE-i(t)/TauI,\n",
    "r'(t)=i(t)/TauI, \n",
    "f'(t)=(i(t)-f(t))/TauF,\n",
    "y(t)=i(t), \n",
    ")\n",
    "    \n",
    "println(assess_identifiability(ode3, known_ic = [s, e, i, r, f])) "
   ]
  },
  {
   "cell_type": "code",
   "execution_count": null,
   "id": "ultimate-myanmar",
   "metadata": {},
   "outputs": [],
   "source": [
    "using StructuralIdentifiability\n",
    "#SEIRb model with initial condtions and gamma=4\n",
    "ode4=@ODEmodel(\n",
    "s'(t)=-beta/((1+a*f(t))*(1+a*f(t))*(1+a*f(t))*(1+a*f(t)))*(s(t)*i(t)),\n",
    "e'(t)=beta/((1+a*f(t))*(1+a*f(t))*(1+a*f(t))*(1+a*f(t)))*(s(t)*i(t))-e(t)/TauE,\n",
    "i'(t)=e(t)/TauE-i(t)/TauI,\n",
    "r'(t)=i(t)/TauI, \n",
    "f'(t)=(i(t)-f(t))/TauF,\n",
    "y(t)=i(t), \n",
    ")\n",
    "    \n",
    "println(assess_identifiability(ode4, known_ic = [s, e, i, r, f])) "
   ]
  },
  {
   "cell_type": "code",
   "execution_count": null,
   "id": "arabic-affiliate",
   "metadata": {},
   "outputs": [],
   "source": [
    "using StructuralIdentifiability\n",
    "#SEIRb model with initial condtions and gamma=5\n",
    "ode5=@ODEmodel(\n",
    "s'(t)=-beta/((1+a*f(t))*(1+a*f(t))*(1+a*f(t))*(1+a*f(t))*(1+a*f(t)))*(s(t)*i(t)),\n",
    "e'(t)=beta/((1+a*f(t))*(1+a*f(t))*(1+a*f(t))*(1+a*f(t))*(1+a*f(t)))*(s(t)*i(t))-e(t)/TauE,\n",
    "i'(t)=e(t)/TauE-i(t)/TauI,\n",
    "r'(t)=i(t)/TauI, \n",
    "f'(t)=(i(t)-f(t))/TauF,\n",
    "y(t)=i(t), \n",
    ")\n",
    "    \n",
    "println(assess_identifiability(ode5, known_ic = [s, e, i, r, f])) "
   ]
  },
  {
   "cell_type": "code",
   "execution_count": null,
   "id": "wicked-knock",
   "metadata": {},
   "outputs": [],
   "source": [
    "using StructuralIdentifiability\n",
    "#SEIRb model without initial condtions and gamma=1\n",
    "ode6=@ODEmodel(\n",
    "s'(t)=-beta/((1+a*f(t)))*(s(t)*i(t)),\n",
    "e'(t)=beta/((1+a*f(t)))*(s(t)*i(t))-e(t)/TauE,\n",
    "i'(t)=e(t)/TauE-i(t)/TauI,\n",
    "r'(t)=i(t)/TauI, \n",
    "f'(t)=(i(t)-f(t))/TauF,\n",
    "y(t)=i(t), \n",
    ")\n",
    "    \n",
    "println(assess_identifiability(ode6)) "
   ]
  },
  {
   "cell_type": "code",
   "execution_count": null,
   "id": "noble-office",
   "metadata": {},
   "outputs": [],
   "source": [
    "using StructuralIdentifiability\n",
    "#SEIRb model without initial condtions and gamma=2\n",
    "ode7=@ODEmodel(\n",
    "s'(t)=-beta/((1+a*f(t))*(1+a*f(t)))*(s(t)*i(t)),\n",
    "e'(t)=beta/((1+a*f(t))*(1+a*f(t)))*(s(t)*i(t))-e(t)/TauE,\n",
    "i'(t)=e(t)/TauE-i(t)/TauI,\n",
    "r'(t)=i(t)/TauI, \n",
    "f'(t)=(i(t)-f(t))/TauF,\n",
    "y(t)=i(t), \n",
    ")\n",
    "    \n",
    "println(assess_identifiability(ode7)) "
   ]
  },
  {
   "cell_type": "code",
   "execution_count": null,
   "id": "sound-phrase",
   "metadata": {},
   "outputs": [],
   "source": [
    "using StructuralIdentifiability\n",
    "#SEIRb model without initial condtions and gamma=3\n",
    "ode8=@ODEmodel(\n",
    "s'(t)=-beta/((1+a*f(t))*(1+a*f(t))*(1+a*f(t)))*(s(t)*i(t)),\n",
    "e'(t)=beta/((1+a*f(t))*(1+a*f(t))*(1+a*f(t)))*(s(t)*i(t))-e(t)/TauE,\n",
    "i'(t)=e(t)/TauE-i(t)/TauI,\n",
    "r'(t)=i(t)/TauI, \n",
    "f'(t)=(i(t)-f(t))/TauF,\n",
    "y(t)=i(t), \n",
    ")\n",
    "    \n",
    "println(assess_identifiability(ode8)) "
   ]
  },
  {
   "cell_type": "code",
   "execution_count": null,
   "id": "victorian-pharmacology",
   "metadata": {},
   "outputs": [],
   "source": [
    "using StructuralIdentifiability\n",
    "#SEIRb model without initial condtions and gamma=4\n",
    "ode9=@ODEmodel(\n",
    "s'(t)=-beta/((1+a*f(t))*(1+a*f(t))*(1+a*f(t))*(1+a*f(t)))*(s(t)i(t)),\n",
    "e'(t)=beta/((1+a*f(t))*(1+a*f(t))*(1+a*f(t))*(1+a*f(t)))*(s(t)i(t))-e(t)/TauE,\n",
    "i'(t)=e(t)/TauE-i(t)/TauI,\n",
    "r'(t)=i(t)/TauI, \n",
    "f'(t)=(i(t)-f(t))/TauF,\n",
    "y(t)=i(t), \n",
    ")\n",
    "    \n",
    "println(assess_identifiability(ode9))"
   ]
  },
  {
   "cell_type": "code",
   "execution_count": null,
   "id": "immune-terminal",
   "metadata": {},
   "outputs": [],
   "source": [
    "using StructuralIdentifiability\n",
    "#SEIRb model without initial condtions and gamma=5\n",
    "ode10=@ODEmodel(\n",
    "s'(t)=(-beta/((1+a*f(t))*(1+a*f(t))*(1+a*f(t))*(1+a*f(t))*(1+a*f(t))))*(s(t)*i(t)),\n",
    "e'(t)=(beta/((1+a*f(t))*(1+a*f(t))*(1+a*f(t))*(1+a*f(t))*(1+a*f(t))))*(s(t)*i(t))-e(t)/TauE,\n",
    "i'(t)=e(t)/TauE-i(t)/TauI,\n",
    "r'(t)=i(t)/TauI, \n",
    "f'(t)=(i(t)-f(t))/TauF,\n",
    "y(t)=i(t), \n",
    ")\n",
    "    \n",
    "println(assess_identifiability(ode10)) \n",
    "\n",
    "find_identifiable_functions(ode10)"
   ]
  }
 ],
 "metadata": {
  "kernelspec": {
   "display_name": "Julia 1.10.2",
   "language": "julia",
   "name": "julia-1.10"
  },
  "language_info": {
   "file_extension": ".jl",
   "mimetype": "application/julia",
   "name": "julia",
   "version": "1.10.2"
  }
 },
 "nbformat": 4,
 "nbformat_minor": 5
}
