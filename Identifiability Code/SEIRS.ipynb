{
 "cells": [
  {
   "cell_type": "code",
   "execution_count": null,
   "id": "celtic-trace",
   "metadata": {},
   "outputs": [],
   "source": [
    "using StructuralIdentifiability\n",
    "#SEIRS with no initial conditions \n",
    "ode1=@ODEmodel(\n",
    "s'(t)=-beta*s(t)*i(t)+r(t)/TauR,\n",
    "e'(t)=beta*s(t)*i(t)-e(t)/TauE,\n",
    "i'(t)=e(t)/TauE-i(t)/TauI,\n",
    "r'(t)=(i(t)/TauI)-r(t)/TauR,\n",
    "y(t)=i(t), \n",
    ")\n",
    "    \n",
    "println(assess_identifiability(ode1)) \n",
    "\n",
    "find_identifiable_functions(ode1)"
   ]
  },
  {
   "cell_type": "code",
   "execution_count": null,
   "id": "endless-seeking",
   "metadata": {},
   "outputs": [],
   "source": [
    "using StructuralIdentifiability\n",
    "#SEIRS with initial conditions \n",
    "ode2=@ODEmodel(\n",
    "s'(t)=-beta*s(t)*i(t)+r(t)/TauR,\n",
    "e'(t)=beta*s(t)*i(t)-e(t)/TauE,\n",
    "i'(t)=e(t)/TauE-i(t)/TauI,\n",
    "r'(t)=(i(t)/TauI)-r(t)/TauR,\n",
    "y(t)=i(t), \n",
    ")    \n",
    "\n",
    "println(assess_identifiability(ode2, known_ic = [s, e, i, r])) "
   ]
  }
 ],
 "metadata": {
  "kernelspec": {
   "display_name": "Julia 1.10.2",
   "language": "julia",
   "name": "julia-1.10"
  },
  "language_info": {
   "file_extension": ".jl",
   "mimetype": "application/julia",
   "name": "julia",
   "version": "1.10.2"
  }
 },
 "nbformat": 4,
 "nbformat_minor": 5
}
